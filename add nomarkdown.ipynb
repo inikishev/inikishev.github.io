{
 "cells": [
  {
   "cell_type": "code",
   "execution_count": 8,
   "id": "883eba83",
   "metadata": {},
   "outputs": [],
   "source": [
    "import re\n",
    "from pathlib import Path\n",
    "\n",
    "def wrap_math(content: str):\n",
    "    \"\"\"\n",
    "    Wraps $...$ and $$...$$ into {::nomarkdown}\n",
    "    \"\"\"\n",
    "    # for $..$\n",
    "    p1 = r'\\$[^\\n\\$]+\\$'\n",
    "\n",
    "    # for $$..$$\n",
    "    p2 = r'\\$\\$[\\s\\S]*?\\$\\$'\n",
    "\n",
    "    pattern = re.compile(f'({p2})|({p1})')\n",
    "\n",
    "    def replacer(match):\n",
    "        return f\"{{::nomarkdown}}{match.group(0)}{{:/nomarkdown}}\"\n",
    "\n",
    "    return pattern.sub(replacer, content)\n",
    "\n",
    "\n",
    "def process(name: str):\n",
    "    with open(Path(\"raw_posts\") / name, \"r\", encoding='utf8') as f:\n",
    "        md = f.read()\n",
    "\n",
    "    # wrap math\n",
    "    md = wrap_math(md)\n",
    "\n",
    "    # add a comment for myself\n",
    "    # TODO\n",
    "\n",
    "    with open(Path(\"_posts\") / name, \"w\", encoding='utf8') as f:\n",
    "        f.write(md)\n",
    "\n",
    "process(\"2025-10-25-QN.md\")"
   ]
  }
 ],
 "metadata": {
  "kernelspec": {
   "display_name": "pytorch312",
   "language": "python",
   "name": "python3"
  },
  "language_info": {
   "codemirror_mode": {
    "name": "ipython",
    "version": 3
   },
   "file_extension": ".py",
   "mimetype": "text/x-python",
   "name": "python",
   "nbconvert_exporter": "python",
   "pygments_lexer": "ipython3",
   "version": "3.12.7"
  }
 },
 "nbformat": 4,
 "nbformat_minor": 5
}
